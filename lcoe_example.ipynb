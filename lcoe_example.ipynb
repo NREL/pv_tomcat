{
 "cells": [
  {
   "cell_type": "code",
   "execution_count": 1,
   "metadata": {},
   "outputs": [],
   "source": [
    "import lcoe"
   ]
  },
  {
   "cell_type": "code",
   "execution_count": 2,
   "metadata": {},
   "outputs": [
    {
     "data": {
      "text/plain": [
       "0.06696935023070007"
      ]
     },
     "execution_count": 2,
     "metadata": {},
     "output_type": "execute_result"
    }
   ],
   "source": [
    "# Do an LCOE calculation with the default values\n",
    "lcoe.lcoe()"
   ]
  },
  {
   "cell_type": "code",
   "execution_count": 3,
   "metadata": {},
   "outputs": [
    {
     "name": "stdout",
     "output_type": "stream",
     "text": [
      "0.06540108660322291\n"
     ]
    }
   ],
   "source": [
    "# Change the location (affecting BOS cost only)\n",
    "lcoe_baseline = lcoe.lcoe(state='CO')\n",
    "print(lcoe_baseline)"
   ]
  },
  {
   "cell_type": "code",
   "execution_count": 4,
   "metadata": {},
   "outputs": [
    {
     "name": "stdout",
     "output_type": "stream",
     "text": [
      "0.060709001094873385\n"
     ]
    }
   ],
   "source": [
    "# Change location and energy yield\n",
    "lcoe_proposed = lcoe.lcoe(state='CO', energy_yield=1589)\n",
    "print(lcoe_proposed)"
   ]
  },
  {
   "cell_type": "code",
   "execution_count": 5,
   "metadata": {},
   "outputs": [
    {
     "name": "stdout",
     "output_type": "stream",
     "text": [
      "Module cost: 0.0 USD/m^2, LCOE: 0.0469 USD/kWh\n",
      "Module cost: 11.11 USD/m^2, LCOE: 0.0502 USD/kWh\n",
      "Module cost: 22.22 USD/m^2, LCOE: 0.0535 USD/kWh\n",
      "Module cost: 33.33 USD/m^2, LCOE: 0.0568 USD/kWh\n",
      "Module cost: 44.44 USD/m^2, LCOE: 0.0601 USD/kWh\n",
      "Module cost: 55.56 USD/m^2, LCOE: 0.0634 USD/kWh\n",
      "Module cost: 66.67 USD/m^2, LCOE: 0.0667 USD/kWh\n",
      "Module cost: 77.78 USD/m^2, LCOE: 0.07 USD/kWh\n",
      "Module cost: 88.89 USD/m^2, LCOE: 0.0733 USD/kWh\n",
      "Module cost: 100.0 USD/m^2, LCOE: 0.0766 USD/kWh\n"
     ]
    }
   ],
   "source": [
    "import numpy as np\n",
    "# Do a batch of calculations very quickly by preloading the bos_cost_tree\n",
    "bos_cost_tree = lcoe.fetch_bos_cost_tree()\n",
    "for cost_module in np.linspace(0, 100, 10):\n",
    "    print('Module cost: {} USD/m^2, LCOE: {} USD/kWh'.format(\n",
    "        np.round(cost_module, 2),\n",
    "        np.round(lcoe.lcoe(bos_cost_tree=bos_cost_tree, cost_module=cost_module), 4)\n",
    "    ))"
   ]
  },
  {
   "cell_type": "code",
   "execution_count": 6,
   "metadata": {},
   "outputs": [
    {
     "name": "stdout",
     "output_type": "stream",
     "text": [
      "For a module that produces 1.1x more energy, the additional cost can be up to 22.06 USD/m^2\n"
     ]
    }
   ],
   "source": [
    "import scipy.optimize\n",
    "# Calculate breakeven cost of an additional module component (USD/m^2) based on some amount of extra energy\n",
    "energy_factor = 1.1\n",
    "cost_module = 1.15*58.78\n",
    "lcoe_arguments = {'state':'CO', 'bos_cost_tree':bos_cost_tree}\n",
    "lcoe_baseline = lcoe.lcoe(energy_yield=1589, cost_module=cost_module, **lcoe_arguments)\n",
    "def lcoe_difference(cost_extra):\n",
    "    return lcoe.lcoe(energy_yield=1589*energy_factor, cost_module=cost_module+cost_extra, **lcoe_arguments)\\\n",
    "    - lcoe_baseline\n",
    "breakeven_cost = scipy.optimize.newton(lcoe_difference, 0)\n",
    "print('For a module that produces {}x more energy, the additional cost can be up to {} USD/m^2'.format(\n",
    "    np.round(energy_factor, 2),\n",
    "    np.round(breakeven_cost, 2)\n",
    "))"
   ]
  }
 ],
 "metadata": {
  "kernelspec": {
   "display_name": "Python 3",
   "language": "python",
   "name": "python3"
  },
  "language_info": {
   "codemirror_mode": {
    "name": "ipython",
    "version": 3
   },
   "file_extension": ".py",
   "mimetype": "text/x-python",
   "name": "python",
   "nbconvert_exporter": "python",
   "pygments_lexer": "ipython3",
   "version": "3.6.5"
  }
 },
 "nbformat": 4,
 "nbformat_minor": 2
}
